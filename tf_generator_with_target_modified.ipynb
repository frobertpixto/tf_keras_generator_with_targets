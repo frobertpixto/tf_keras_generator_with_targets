{
 "cells": [
  {
   "cell_type": "markdown",
   "metadata": {},
   "source": [
    "# Keras generator with targets modified\n",
    "\n",
    "When having a dataset of annotated images (e.g., vertices of a shape, coordinates for body landmarks). \n",
    "\n",
    "We want to augment the dataset, but we need a way to implement the ImageDataGenerator to modify the target variables according to image transformation (for example, if the image is flipped horizontally, the target coordinates must be flipped also)."
   ]
  },
  {
   "cell_type": "code",
   "execution_count": 1,
   "metadata": {},
   "outputs": [
    {
     "name": "stdout",
     "output_type": "stream",
     "text": [
      "3.8.3\n"
     ]
    }
   ],
   "source": [
    "from platform import python_version\n",
    "\n",
    "print(python_version())"
   ]
  },
  {
   "cell_type": "code",
   "execution_count": 2,
   "metadata": {},
   "outputs": [
    {
     "name": "stdout",
     "output_type": "stream",
     "text": [
      "2.3.1\n"
     ]
    }
   ],
   "source": [
    "import tensorflow as tf\n",
    "print(tf.__version__)"
   ]
  },
  {
   "cell_type": "code",
   "execution_count": 3,
   "metadata": {},
   "outputs": [],
   "source": [
    "# Shows a Simple Keras Generator with modified target Y as we apply transformation on image X\n",
    "# Based on: https://stanford.edu/~shervine/blog/keras-how-to-generate-data-on-the-fly"
   ]
  },
  {
   "cell_type": "code",
   "execution_count": 4,
   "metadata": {},
   "outputs": [],
   "source": [
    "from numpy.random import seed\n",
    "import numpy as np\n",
    "import matplotlib.pyplot as plt\n",
    "import matplotlib.image as mpimg\n",
    "import seaborn as sns\n",
    "%matplotlib inline\n",
    "\n",
    "from tensorflow.keras.utils import Sequence\n",
    "from tensorflow.keras.preprocessing.image import img_to_array, load_img\n",
    "\n",
    "sns.set(style='white', context='notebook', palette='deep')\n",
    "import os"
   ]
  },
  {
   "cell_type": "code",
   "execution_count": 5,
   "metadata": {},
   "outputs": [],
   "source": [
    "# Randomizer\n",
    "seed(12)"
   ]
  },
  {
   "cell_type": "code",
   "execution_count": 6,
   "metadata": {},
   "outputs": [],
   "source": [
    "class MyDataGenerator(Sequence):\n",
    "    'Generates data for Keras'\n",
    "\n",
    "    def __init__(self, list_IDs, x_set, y_set, batch_size=32, dim=(70, 70), n_channels=1, n_vertices=4, shuffle=True, horiz_flip_percent=0, vert_flip_percent=0):\n",
    "        'Initialization'\n",
    "        self.dim = dim\n",
    "        self.im_size = dim[0]\n",
    "        self.batch_size = batch_size\n",
    "        self.x_set = x_set\n",
    "        self.y_set = y_set\n",
    "        self.list_IDs = list_IDs\n",
    "        self.n_channels = n_channels\n",
    "        self.n_vertices = n_vertices\n",
    "        self.shuffle = shuffle\n",
    "        self.horiz_flip_percent = horiz_flip_percent\n",
    "        self.vert_flip_percent  = vert_flip_percent\n",
    "        self.on_epoch_end()\n",
    "\n",
    "    def __len__(self):\n",
    "        'Denotes the number of batches per epoch'\n",
    "        return int(np.floor(len(self.list_IDs) / self.batch_size))\n",
    "\n",
    "    def __getitem__(self, index):\n",
    "        'Generate one batch of data'\n",
    "        # 1. Generate indexes of the batch\n",
    "        indexes = self.indexes[index * self.batch_size:(index + 1) * self.batch_size]\n",
    "\n",
    "        # 2. Find list of IDs\n",
    "        list_IDs_temp = [self.list_IDs[k] for k in indexes]\n",
    "\n",
    "        # 3. Generate data\n",
    "        X, y = self.__data_generation(list_IDs_temp)\n",
    "\n",
    "        return X, y\n",
    "\n",
    "    def on_epoch_end(self):\n",
    "        'Updates indexes after each epoch'\n",
    "        self.indexes = np.arange(len(self.list_IDs))\n",
    "        if self.shuffle == True:\n",
    "            np.random.shuffle(self.indexes)\n",
    "\n",
    "    def __data_generation(self, list_IDs_temp):\n",
    "        'Generates data containing batch_size samples'  # X : (n_samples, *dim, n_channels)\n",
    "        # Initialization\n",
    "        X = np.empty((self.batch_size, *self.dim, self.n_channels))\n",
    "        y = np.empty((self.batch_size, self.n_vertices * 2))\n",
    "        indices_lr = np.random.choice(100, self.batch_size, replace=False)\n",
    "        indices_ud = np.random.choice(100, self.batch_size, replace=False)\n",
    "\n",
    "        # Generate data\n",
    "        for i, ID in enumerate(list_IDs_temp):\n",
    "            image = np.array(self.x_set[ID], copy=True)\n",
    "            label = np.array(self.y_set[ID], copy=True)\n",
    "            nb_labels = len(label)\n",
    "\n",
    "            # Perform modification on both X (the image) and y (the vertices)\n",
    "            if (indices_lr[i] < self.horiz_flip_percent):  # Flip Left - Right\n",
    "                # Modify the Image\n",
    "                image = np.fliplr(image)\n",
    "                # modify the label\n",
    "                for m in range(nb_labels):\n",
    "                    if m % 2 == 0:\n",
    "                        label[m] = 1 - label[m] # Flip the x\n",
    "\n",
    "            if (indices_ud[i] < self.vert_flip_percent):  # Flip Up - Down\n",
    "                # Modify the Image\n",
    "                image = np.flipud(image)\n",
    "                # modify the label\n",
    "                for m in range(nb_labels):\n",
    "                    if m % 2 == 1:\n",
    "                        label[m] = 1 - label[m] # Flip the y\n",
    "\n",
    "            X[i,] = image\n",
    "            y[i]  = label\n",
    "\n",
    "        return X, y"
   ]
  },
  {
   "cell_type": "code",
   "execution_count": 7,
   "metadata": {},
   "outputs": [],
   "source": [
    "# only index 0 as there is only 1 image\n",
    "indexes = [0]  "
   ]
  },
  {
   "cell_type": "code",
   "execution_count": 8,
   "metadata": {},
   "outputs": [],
   "source": [
    "# We will transform a Triangle Image\n",
    "image_size = 70 # Square images 70,70\n",
    "image_filename = \"./images/triangle.20190701225733.1.png\"\n",
    "img = load_img(image_filename)  # image is a Black on White PIL image"
   ]
  },
  {
   "cell_type": "code",
   "execution_count": 9,
   "metadata": {},
   "outputs": [
    {
     "data": {
      "image/png": "[encoded data removed]",
      "text/plain": [
       "<Figure size 432x288 with 1 Axes>"
      ]
     },
     "metadata": {},
     "output_type": "display_data"
    }
   ],
   "source": [
    "g = plt.imshow(img)"
   ]
  },
  {
   "cell_type": "code",
   "execution_count": 10,
   "metadata": {},
   "outputs": [],
   "source": [
    "# Labels\n",
    "vertices = [0.18, 0.64, 0.29, 0.31, 0.85, 0.49]  # x1,y1 x2,y2 x3,y3 where 0,0 is top left and 1,1 is botton right\n",
    "nb_vertices = 3"
   ]
  },
  {
   "cell_type": "code",
   "execution_count": 11,
   "metadata": {},
   "outputs": [],
   "source": [
    "xb = img_to_array(img)  # xb is a Numpy array with shape (70, 70, 3)\n",
    "\n",
    "xb = np.expand_dims(xb, axis=0) # xb is now (1, 70, 70, 3)\n",
    "xb /= 255. # all value are now between 0 and 1\n",
    "xb = xb[:, :, :, 0]  # For a gray image, the first layer is enough. We also normalize to White to Black\n",
    "xb = xb.reshape(1, image_size, image_size, 1)  #  xb is now in the expected format for a batch of 1 image\n",
    "\n",
    "yb = np.array(vertices) # Shape (6,) if 3 vertices\n",
    "yb = yb.reshape((1,) + yb.shape) # Reshaped to (1,6), the expected format for a batch of labels for 1 images"
   ]
  },
  {
   "cell_type": "code",
   "execution_count": 12,
   "metadata": {},
   "outputs": [
    {
     "data": {
      "text/plain": [
       "(1, 70, 70, 1)"
      ]
     },
     "execution_count": 12,
     "metadata": {},
     "output_type": "execute_result"
    }
   ],
   "source": [
    "xb.shape"
   ]
  },
  {
   "cell_type": "code",
   "execution_count": 13,
   "metadata": {},
   "outputs": [
    {
     "data": {
      "text/plain": [
       "(1, 6)"
      ]
     },
     "execution_count": 13,
     "metadata": {},
     "output_type": "execute_result"
    }
   ],
   "source": [
    "yb.shape"
   ]
  },
  {
   "cell_type": "code",
   "execution_count": 14,
   "metadata": {},
   "outputs": [],
   "source": [
    "# We prepare a generator where we do horizontal and vertical flip of the image and labels\n",
    "datagenTest = MyDataGenerator(indexes, xb, yb, batch_size=1, \\\n",
    "                              n_vertices=nb_vertices, \\\n",
    "                              horiz_flip_percent=50, \\\n",
    "                              vert_flip_percent=50)"
   ]
  },
  {
   "cell_type": "code",
   "execution_count": 15,
   "metadata": {},
   "outputs": [],
   "source": [
    "def plot_sample(X, y, axs):\n",
    "    axs.imshow(X.reshape(image_size, image_size), cmap=\"gray\") # Put the Image\n",
    "    y = y.ravel()\n",
    "    axs.scatter(image_size * y[0::2], image_size * y[1::2], c='orange') # Add the labels as orange dots"
   ]
  },
  {
   "cell_type": "code",
   "execution_count": 16,
   "metadata": {},
   "outputs": [
    {
     "data": {
      "image/png": "[encoded data removed]",
      "text/plain": [
       "<Figure size 504x504 with 6 Axes>"
      ]
     },
     "metadata": {},
     "output_type": "display_data"
    }
   ],
   "source": [
    "# Note that the orage dots (the labels) follow the image transformations\n",
    "fig = plt.figure(figsize=(7, 7))\n",
    "fig.subplots_adjust(hspace=0.13,wspace=0.0001,\n",
    "                    left=0,right=1,bottom=0, top=1)\n",
    "nb_pictures = 6\n",
    "\n",
    "for i_pic in range(nb_pictures):\n",
    "    x,y = datagenTest.__getitem__(0) # <--- Calling the generator\n",
    "    ax = fig.add_subplot(nb_pictures / 3, 3, i_pic + 1, xticks=[], yticks=[])\n",
    "    plot_sample(x, y, ax)\n",
    "    ax.set_title(\"picture \" + str(i_pic))\n",
    "plt.show()    "
   ]
  },
  {
   "cell_type": "code",
   "execution_count": null,
   "metadata": {},
   "outputs": [],
   "source": []
  }
 ],
 "metadata": {
  "kernelspec": {
   "display_name": "Python 3",
   "language": "python",
   "name": "python3"
  },
  "language_info": {
   "codemirror_mode": {
    "name": "ipython",
    "version": 3
   },
   "file_extension": ".py",
   "mimetype": "text/x-python",
   "name": "python",
   "nbconvert_exporter": "python",
   "pygments_lexer": "ipython3",
   "version": "3.8.3"
  }
 },
 "nbformat": 4,
 "nbformat_minor": 4
}
